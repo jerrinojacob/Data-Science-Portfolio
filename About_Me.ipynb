{
  "nbformat": 4,
  "nbformat_minor": 0,
  "metadata": {
    "colab": {
      "provenance": [],
      "authorship_tag": "ABX9TyMU082pqmDyM3oY0fGLtZ+R",
      "include_colab_link": true
    },
    "kernelspec": {
      "name": "python3",
      "display_name": "Python 3"
    },
    "language_info": {
      "name": "python"
    }
  },
  "cells": [
    {
      "cell_type": "markdown",
      "metadata": {
        "id": "view-in-github",
        "colab_type": "text"
      },
      "source": [
        "<a href=\"https://colab.research.google.com/github/jerrinojacob/Data-Science-Portfolio/blob/main/About_Me.ipynb\" target=\"_parent\"><img src=\"https://colab.research.google.com/assets/colab-badge.svg\" alt=\"Open In Colab\"/></a>"
      ]
    },
    {
      "cell_type": "markdown",
      "source": [
        "# About Me\n",
        "\n",
        "##*Your preferred name and, optionally, pronouns*\n",
        ">My Name is **Jerrin** *aka* **JJ**.\n",
        "\n",
        "##*Why did you sign up for this bootcamp?*\n",
        ">I joined Deep Dive Coding to finally dip my toes into the data science world. I’ve been working with data for over 21 years across different platforms and companies, and honestly, I just love it. What excites me most is taking data that looks random or meaningless and helping organizations see the hidden value in it — the insights, the stories, and the opportunities for growth.\n",
        "\n",
        "##*If you had your human body, but the head of an animal, what animal would you pick?*\n",
        "I’d pick the head of a lion. Lions are known to be fearless, determined, and lead with authority. I like to think of myself in a similar way: when I set a goal, I go after it with that same intensity and focus. At the same time, lions don’t just lead through dominance; they protect and mentor their pride. I’d want to embody that balance — being aggressive enough to get things done, but also guiding and supporting others so the whole team grows stronger.\n",
        "\n",
        "##*If you had to delete all but 3 apps from your smartphone, which ones would you keep?*\n",
        "If I had to delete all but three apps, I’d keep my\n",
        "- email,\n",
        "- my password keeper, and\n",
        "- my bank app.\n",
        "\n",
        "Here’s why: without email, I’d basically vanish from the world — nobody would know where to find me. The password keeper is a must, because let’s be real, I’ve got about 374 different accounts and only remember the password to my Prime account. And of course, the bank app — because if I can’t check whether I can afford burritos this week, what’s the point of having a phone at all?\n",
        "\n",
        "I’ve got to go with Breaking Bad for TV — I mean, if you live in New Mexico and don’t mention it, I’m pretty sure they revoke your state residency. 😅 For music, I love going back to the ‘90s. Give me Celine Dion belting her heart out, Christina Aguilera reminding us all about that genie in the bottle, and Lionel Richie saying hello — and yes, I sing along loudly, badly, and with zero shame.\n",
        "\n",
        "\n"
      ],
      "metadata": {
        "id": "wNYs24I7RjOV"
      }
    }
  ]
}